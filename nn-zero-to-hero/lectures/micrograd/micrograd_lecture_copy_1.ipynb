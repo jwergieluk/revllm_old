{
 "cells": [
  {
   "cell_type": "code",
   "execution_count": 1,
   "metadata": {},
   "outputs": [],
   "source": [
    "import math\n",
    "import numpy as np\n",
    "import matplotlib.pyplot as plt\n",
    "%matplotlib inline"
   ]
  },
  {
   "cell_type": "code",
   "execution_count": 2,
   "metadata": {},
   "outputs": [],
   "source": [
    "def f(x):\n",
    "  return 3*x**2 - 4*x + 5"
   ]
  },
  {
   "cell_type": "code",
   "execution_count": 3,
   "metadata": {},
   "outputs": [
    {
     "data": {
      "text/plain": [
       "20.0"
      ]
     },
     "execution_count": 3,
     "metadata": {},
     "output_type": "execute_result"
    }
   ],
   "source": [
    "f(3.0)"
   ]
  },
  {
   "cell_type": "code",
   "execution_count": 4,
   "metadata": {},
   "outputs": [
    {
     "data": {
      "text/plain": [
       "[<matplotlib.lines.Line2D at 0x1420d021ed0>]"
      ]
     },
     "execution_count": 4,
     "metadata": {},
     "output_type": "execute_result"
    },
    {
     "data": {
      "image/png": "[encoded data removed]",
      "text/plain": [
       "<Figure size 640x480 with 1 Axes>"
      ]
     },
     "metadata": {},
     "output_type": "display_data"
    }
   ],
   "source": [
    "xs = np.arange(-5, 5, 0.25)\n",
    "ys = f(xs)\n",
    "plt.plot(xs, ys)"
   ]
  },
  {
   "cell_type": "code",
   "execution_count": 5,
   "metadata": {},
   "outputs": [
    {
     "data": {
      "text/plain": [
       "2.999378523327323e-06"
      ]
     },
     "execution_count": 5,
     "metadata": {},
     "output_type": "execute_result"
    }
   ],
   "source": [
    "h = 0.000001\n",
    "x = 2/3\n",
    "(f(x + h) - f(x))/h"
   ]
  },
  {
   "cell_type": "code",
   "execution_count": 6,
   "metadata": {},
   "outputs": [
    {
     "name": "stdout",
     "output_type": "stream",
     "text": [
      "4.0\n"
     ]
    }
   ],
   "source": [
    "# les get more complex\n",
    "a = 2.0\n",
    "b = -3.0\n",
    "c = 10.0\n",
    "d = a*b + c\n",
    "print(d)"
   ]
  },
  {
   "cell_type": "code",
   "execution_count": 7,
   "metadata": {},
   "outputs": [
    {
     "name": "stdout",
     "output_type": "stream",
     "text": [
      "d1 4.0\n",
      "d2 4.0001\n",
      "slope 0.9999999999976694\n"
     ]
    }
   ],
   "source": [
    "h = 0.0001\n",
    "\n",
    "# inputs\n",
    "a = 2.0\n",
    "b = -3.0\n",
    "c = 10.0\n",
    "\n",
    "d1 = a*b + c\n",
    "c += h\n",
    "d2 = a*b + c\n",
    "\n",
    "print('d1', d1)\n",
    "print('d2', d2)\n",
    "print('slope', (d2 - d1)/h)\n"
   ]
  },
  {
   "cell_type": "code",
   "execution_count": 8,
   "metadata": {},
   "outputs": [
    {
     "data": {
      "text/plain": [
       "Value(data=-8.0)"
      ]
     },
     "execution_count": 8,
     "metadata": {},
     "output_type": "execute_result"
    }
   ],
   "source": [
    "class Value:\n",
    "  \n",
    "  def __init__(self, data, _children=(), _op='', label=''):\n",
    "    self.data = data\n",
    "    self.grad = 0.0\n",
    "    self._backward = lambda: None\n",
    "    self._prev = set(_children)\n",
    "    self._op = _op\n",
    "    self.label = label\n",
    "\n",
    "  def __repr__(self):\n",
    "    return f\"Value(data={self.data})\"\n",
    "  \n",
    "  def __add__(self, other):\n",
    "    out = Value(self.data + other.data, (self, other), '+')\n",
    "    \n",
    "    def _backward():\n",
    "      self.grad += 1.0 * out.grad\n",
    "      other.grad += 1.0 * out.grad\n",
    "    out._backward = _backward\n",
    "    \n",
    "    return out\n",
    "\n",
    "  def __mul__(self, other):\n",
    "    out = Value(self.data * other.data, (self, other), '*')\n",
    "    \n",
    "    def _backward():\n",
    "      self.grad += other.data * out.grad\n",
    "      other.grad += self.data * out.grad\n",
    "    out._backward = _backward\n",
    "      \n",
    "    return out\n",
    "  \n",
    "  def tanh(self):\n",
    "    x = self.data\n",
    "    t = (math.exp(2*x) - 1)/(math.exp(2*x) + 1)\n",
    "    out = Value(t, (self, ), 'tanh')\n",
    "    \n",
    "    def _backward():\n",
    "      self.grad += (1 - t**2) * out.grad\n",
    "    out._backward = _backward\n",
    "    \n",
    "    return out\n",
    "  \n",
    "  def backward(self):\n",
    "    \n",
    "    topo = []\n",
    "    visited = set()\n",
    "    def build_topo(v):\n",
    "      if v not in visited:\n",
    "        visited.add(v)\n",
    "        for child in v._prev:\n",
    "          build_topo(child)\n",
    "        topo.append(v)\n",
    "    build_topo(self)\n",
    "    \n",
    "    self.grad = 1.0\n",
    "    for node in reversed(topo):\n",
    "      node._backward()\n",
    "\n",
    "\n",
    "a = Value(2.0, label='a')\n",
    "b = Value(-3.0, label='b')\n",
    "c = Value(10.0, label='c')\n",
    "e = a*b; e.label = 'e'\n",
    "d = e + c; d.label = 'd'\n",
    "f = Value(-2.0, label='f')\n",
    "L = d * f; L.label = 'L'\n",
    "L"
   ]
  },
  {
   "cell_type": "code",
   "execution_count": 9,
   "metadata": {},
   "outputs": [],
   "source": [
    "from graphviz import Digraph\n",
    "\n",
    "def trace(root):\n",
    "  # builds a set of all nodes and edges in a graph\n",
    "  nodes, edges = set(), set()\n",
    "  def build(v):\n",
    "    if v not in nodes:\n",
    "      nodes.add(v)\n",
    "      for child in v._prev:\n",
    "        edges.add((child, v))\n",
    "        build(child)\n",
    "  build(root)\n",
    "  return nodes, edges\n",
    "\n",
    "def draw_dot(root):\n",
    "  dot = Digraph(format='svg', graph_attr={'rankdir': 'LR'}) # LR = left to right\n",
    "  \n",
    "  nodes, edges = trace(root)\n",
    "  for n in nodes:\n",
    "    uid = str(id(n))\n",
    "    # for any value in the graph, create a rectangular ('record') node for it\n",
    "    dot.node(name = uid, label = \"{ %s | data %.4f | grad %.4f }\" % (n.label, n.data, n.grad), shape='record')\n",
    "    if n._op:\n",
    "      # if this value is a result of some operation, create an op node for it\n",
    "      dot.node(name = uid + n._op, label = n._op)\n",
    "      # and connect this node to it\n",
    "      dot.edge(uid + n._op, uid)\n",
    "\n",
    "  for n1, n2 in edges:\n",
    "    # connect n1 to the op node of n2\n",
    "    dot.edge(str(id(n1)), str(id(n2)) + n2._op)\n",
    "\n",
    "  return dot\n"
   ]
  },
  {
   "cell_type": "code",
   "execution_count": 33,
   "metadata": {},
   "outputs": [
    {
     "data": {
      "image/svg+xml": [
       "<?xml version=\"1.0\" encoding=\"UTF-8\" standalone=\"no\"?>\n",
       "<!DOCTYPE svg PUBLIC \"-//W3C//DTD SVG 1.1//EN\"\n",
       " \"http://www.w3.org/Graphics/SVG/1.1/DTD/svg11.dtd\">\n",
       "<!-- Generated by graphviz version 8.1.0 (20230707.0739)\n",
       " -->\n",
       "<!-- Pages: 1 -->\n",
       "<svg width=\"1152pt\" height=\"128pt\"\n",
       " viewBox=\"0.00 0.00 1151.75 128.00\" xmlns=\"http://www.w3.org/2000/svg\" xmlns:xlink=\"http://www.w3.org/1999/xlink\">\n",
       "<g id=\"graph0\" class=\"graph\" transform=\"scale(1 1) rotate(0) translate(4 124)\">\n",
       "<polygon fill=\"white\" stroke=\"none\" points=\"-4,4 -4,-124 1147.75,-124 1147.75,4 -4,4\"/>\n",
       "<!-- 1383233487392 -->\n",
       "<g id=\"node1\" class=\"node\">\n",
       "<title>1383233487392</title>\n",
       "<polygon fill=\"none\" stroke=\"black\" points=\"321,-83.5 321,-119.5 517.5,-119.5 517.5,-83.5 321,-83.5\"/>\n",
       "<text text-anchor=\"middle\" x=\"332.38\" y=\"-96.2\" font-family=\"Times New Roman,serif\" font-size=\"14.00\">c</text>\n",
       "<polyline fill=\"none\" stroke=\"black\" points=\"343.75,-83.75 343.75,-119.5\"/>\n",
       "<text text-anchor=\"middle\" x=\"387.38\" y=\"-96.2\" font-family=\"Times New Roman,serif\" font-size=\"14.00\">data 10.0000</text>\n",
       "<polyline fill=\"none\" stroke=\"black\" points=\"431,-83.75 431,-119.5\"/>\n",
       "<text text-anchor=\"middle\" x=\"474.25\" y=\"-96.2\" font-family=\"Times New Roman,serif\" font-size=\"14.00\">grad &#45;2.0000</text>\n",
       "</g>\n",
       "<!-- 1383233489264+ -->\n",
       "<g id=\"node7\" class=\"node\">\n",
       "<title>1383233489264+</title>\n",
       "<ellipse fill=\"none\" stroke=\"black\" cx=\"580.5\" cy=\"-73.5\" rx=\"27\" ry=\"18\"/>\n",
       "<text text-anchor=\"middle\" x=\"580.5\" y=\"-68.08\" font-family=\"Times New Roman,serif\" font-size=\"14.00\">+</text>\n",
       "</g>\n",
       "<!-- 1383233487392&#45;&gt;1383233489264+ -->\n",
       "<g id=\"edge8\" class=\"edge\">\n",
       "<title>1383233487392&#45;&gt;1383233489264+</title>\n",
       "<path fill=\"none\" stroke=\"black\" d=\"M517.47,-84.41C526.63,-82.8 535.46,-81.24 543.44,-79.84\"/>\n",
       "<polygon fill=\"black\" stroke=\"black\" points=\"543.87,-83.14 553.11,-77.96 542.66,-76.25 543.87,-83.14\"/>\n",
       "</g>\n",
       "<!-- 1383233501744 -->\n",
       "<g id=\"node2\" class=\"node\">\n",
       "<title>1383233501744</title>\n",
       "<polygon fill=\"none\" stroke=\"black\" points=\"643.5,-0.5 643.5,-36.5 831,-36.5 831,-0.5 643.5,-0.5\"/>\n",
       "<text text-anchor=\"middle\" x=\"653.75\" y=\"-13.2\" font-family=\"Times New Roman,serif\" font-size=\"14.00\">f</text>\n",
       "<polyline fill=\"none\" stroke=\"black\" points=\"664,-0.75 664,-36.5\"/>\n",
       "<text text-anchor=\"middle\" x=\"706.5\" y=\"-13.2\" font-family=\"Times New Roman,serif\" font-size=\"14.00\">data &#45;2.0000</text>\n",
       "<polyline fill=\"none\" stroke=\"black\" points=\"749,-0.75 749,-36.5\"/>\n",
       "<text text-anchor=\"middle\" x=\"790\" y=\"-13.2\" font-family=\"Times New Roman,serif\" font-size=\"14.00\">grad 4.0000</text>\n",
       "</g>\n",
       "<!-- 1383233494640* -->\n",
       "<g id=\"node5\" class=\"node\">\n",
       "<title>1383233494640*</title>\n",
       "<ellipse fill=\"none\" stroke=\"black\" cx=\"894\" cy=\"-45.5\" rx=\"27\" ry=\"18\"/>\n",
       "<text text-anchor=\"middle\" x=\"894\" y=\"-40.08\" font-family=\"Times New Roman,serif\" font-size=\"14.00\">*</text>\n",
       "</g>\n",
       "<!-- 1383233501744&#45;&gt;1383233494640* -->\n",
       "<g id=\"edge6\" class=\"edge\">\n",
       "<title>1383233501744&#45;&gt;1383233494640*</title>\n",
       "<path fill=\"none\" stroke=\"black\" d=\"M830.95,-34.67C840.05,-36.26 848.85,-37.8 856.83,-39.19\"/>\n",
       "<polygon fill=\"black\" stroke=\"black\" points=\"856.06,-42.78 866.51,-41.05 857.26,-35.89 856.06,-42.78\"/>\n",
       "</g>\n",
       "<!-- 1383233486912 -->\n",
       "<g id=\"node3\" class=\"node\">\n",
       "<title>1383233486912</title>\n",
       "<polygon fill=\"none\" stroke=\"black\" points=\"0,-56.5 0,-92.5 195,-92.5 195,-56.5 0,-56.5\"/>\n",
       "<text text-anchor=\"middle\" x=\"11.75\" y=\"-69.2\" font-family=\"Times New Roman,serif\" font-size=\"14.00\">b</text>\n",
       "<polyline fill=\"none\" stroke=\"black\" points=\"23.5,-56.75 23.5,-92.5\"/>\n",
       "<text text-anchor=\"middle\" x=\"66\" y=\"-69.2\" font-family=\"Times New Roman,serif\" font-size=\"14.00\">data &#45;3.0000</text>\n",
       "<polyline fill=\"none\" stroke=\"black\" points=\"108.5,-56.75 108.5,-92.5\"/>\n",
       "<text text-anchor=\"middle\" x=\"151.75\" y=\"-69.2\" font-family=\"Times New Roman,serif\" font-size=\"14.00\">grad &#45;4.0000</text>\n",
       "</g>\n",
       "<!-- 1383233488256* -->\n",
       "<g id=\"node9\" class=\"node\">\n",
       "<title>1383233488256*</title>\n",
       "<ellipse fill=\"none\" stroke=\"black\" cx=\"258\" cy=\"-46.5\" rx=\"27\" ry=\"18\"/>\n",
       "<text text-anchor=\"middle\" x=\"258\" y=\"-41.08\" font-family=\"Times New Roman,serif\" font-size=\"14.00\">*</text>\n",
       "</g>\n",
       "<!-- 1383233486912&#45;&gt;1383233488256* -->\n",
       "<g id=\"edge4\" class=\"edge\">\n",
       "<title>1383233486912&#45;&gt;1383233488256*</title>\n",
       "<path fill=\"none\" stroke=\"black\" d=\"M194.81,-57.49C203.98,-55.87 212.82,-54.3 220.82,-52.89\"/>\n",
       "<polygon fill=\"black\" stroke=\"black\" points=\"221.28,-56.19 230.52,-51 220.07,-49.29 221.28,-56.19\"/>\n",
       "</g>\n",
       "<!-- 1383233494640 -->\n",
       "<g id=\"node4\" class=\"node\">\n",
       "<title>1383233494640</title>\n",
       "<polygon fill=\"none\" stroke=\"black\" points=\"957,-27.5 957,-63.5 1143.75,-63.5 1143.75,-27.5 957,-27.5\"/>\n",
       "<text text-anchor=\"middle\" x=\"966.88\" y=\"-40.2\" font-family=\"Times New Roman,serif\" font-size=\"14.00\"> </text>\n",
       "<polyline fill=\"none\" stroke=\"black\" points=\"976.75,-27.75 976.75,-63.5\"/>\n",
       "<text text-anchor=\"middle\" x=\"1019.25\" y=\"-40.2\" font-family=\"Times New Roman,serif\" font-size=\"14.00\">data &#45;8.0000</text>\n",
       "<polyline fill=\"none\" stroke=\"black\" points=\"1061.75,-27.75 1061.75,-63.5\"/>\n",
       "<text text-anchor=\"middle\" x=\"1102.75\" y=\"-40.2\" font-family=\"Times New Roman,serif\" font-size=\"14.00\">grad 1.0000</text>\n",
       "</g>\n",
       "<!-- 1383233494640*&#45;&gt;1383233494640 -->\n",
       "<g id=\"edge1\" class=\"edge\">\n",
       "<title>1383233494640*&#45;&gt;1383233494640</title>\n",
       "<path fill=\"none\" stroke=\"black\" d=\"M921.19,-45.5C928.61,-45.5 937.16,-45.5 946.27,-45.5\"/>\n",
       "<polygon fill=\"black\" stroke=\"black\" points=\"946.16,-49 956.16,-45.5 946.16,-42 946.16,-49\"/>\n",
       "</g>\n",
       "<!-- 1383233489264 -->\n",
       "<g id=\"node6\" class=\"node\">\n",
       "<title>1383233489264</title>\n",
       "<polygon fill=\"none\" stroke=\"black\" points=\"643.88,-55.5 643.88,-91.5 830.63,-91.5 830.63,-55.5 643.88,-55.5\"/>\n",
       "<text text-anchor=\"middle\" x=\"653.75\" y=\"-68.2\" font-family=\"Times New Roman,serif\" font-size=\"14.00\"> </text>\n",
       "<polyline fill=\"none\" stroke=\"black\" points=\"663.63,-55.75 663.63,-91.5\"/>\n",
       "<text text-anchor=\"middle\" x=\"703.88\" y=\"-68.2\" font-family=\"Times New Roman,serif\" font-size=\"14.00\">data 4.0000</text>\n",
       "<polyline fill=\"none\" stroke=\"black\" points=\"744.13,-55.75 744.13,-91.5\"/>\n",
       "<text text-anchor=\"middle\" x=\"787.38\" y=\"-68.2\" font-family=\"Times New Roman,serif\" font-size=\"14.00\">grad &#45;2.0000</text>\n",
       "</g>\n",
       "<!-- 1383233489264&#45;&gt;1383233494640* -->\n",
       "<g id=\"edge5\" class=\"edge\">\n",
       "<title>1383233489264&#45;&gt;1383233494640*</title>\n",
       "<path fill=\"none\" stroke=\"black\" d=\"M830.5,-56.81C839.74,-55.14 848.69,-53.52 856.78,-52.05\"/>\n",
       "<polygon fill=\"black\" stroke=\"black\" points=\"857.39,-55.32 866.61,-50.09 856.14,-48.43 857.39,-55.32\"/>\n",
       "</g>\n",
       "<!-- 1383233489264+&#45;&gt;1383233489264 -->\n",
       "<g id=\"edge2\" class=\"edge\">\n",
       "<title>1383233489264+&#45;&gt;1383233489264</title>\n",
       "<path fill=\"none\" stroke=\"black\" d=\"M607.75,-73.5C615.33,-73.5 624.1,-73.5 633.42,-73.5\"/>\n",
       "<polygon fill=\"black\" stroke=\"black\" points=\"633.14,-77 643.14,-73.5 633.14,-70 633.14,-77\"/>\n",
       "</g>\n",
       "<!-- 1383233488256 -->\n",
       "<g id=\"node8\" class=\"node\">\n",
       "<title>1383233488256</title>\n",
       "<polygon fill=\"none\" stroke=\"black\" points=\"323.63,-28.5 323.63,-64.5 514.88,-64.5 514.88,-28.5 323.63,-28.5\"/>\n",
       "<text text-anchor=\"middle\" x=\"333.5\" y=\"-41.2\" font-family=\"Times New Roman,serif\" font-size=\"14.00\"> </text>\n",
       "<polyline fill=\"none\" stroke=\"black\" points=\"343.38,-28.75 343.38,-64.5\"/>\n",
       "<text text-anchor=\"middle\" x=\"385.88\" y=\"-41.2\" font-family=\"Times New Roman,serif\" font-size=\"14.00\">data &#45;6.0000</text>\n",
       "<polyline fill=\"none\" stroke=\"black\" points=\"428.38,-28.75 428.38,-64.5\"/>\n",
       "<text text-anchor=\"middle\" x=\"471.63\" y=\"-41.2\" font-family=\"Times New Roman,serif\" font-size=\"14.00\">grad &#45;2.0000</text>\n",
       "</g>\n",
       "<!-- 1383233488256&#45;&gt;1383233489264+ -->\n",
       "<g id=\"edge9\" class=\"edge\">\n",
       "<title>1383233488256&#45;&gt;1383233489264+</title>\n",
       "<path fill=\"none\" stroke=\"black\" d=\"M514.73,-62.52C524.69,-64.21 534.34,-65.84 543,-67.31\"/>\n",
       "<polygon fill=\"black\" stroke=\"black\" points=\"542.34,-70.92 552.78,-69.14 543.51,-64.02 542.34,-70.92\"/>\n",
       "</g>\n",
       "<!-- 1383233488256*&#45;&gt;1383233488256 -->\n",
       "<g id=\"edge3\" class=\"edge\">\n",
       "<title>1383233488256*&#45;&gt;1383233488256</title>\n",
       "<path fill=\"none\" stroke=\"black\" d=\"M285.3,-46.5C293.43,-46.5 302.93,-46.5 313.05,-46.5\"/>\n",
       "<polygon fill=\"black\" stroke=\"black\" points=\"312.79,-50 322.79,-46.5 312.79,-43 312.79,-50\"/>\n",
       "</g>\n",
       "<!-- 1383233499536 -->\n",
       "<g id=\"node10\" class=\"node\">\n",
       "<title>1383233499536</title>\n",
       "<polygon fill=\"none\" stroke=\"black\" points=\"5.25,-1.5 5.25,-37.5 189.75,-37.5 189.75,-1.5 5.25,-1.5\"/>\n",
       "<text text-anchor=\"middle\" x=\"16.25\" y=\"-14.2\" font-family=\"Times New Roman,serif\" font-size=\"14.00\">a</text>\n",
       "<polyline fill=\"none\" stroke=\"black\" points=\"27.25,-1.75 27.25,-37.5\"/>\n",
       "<text text-anchor=\"middle\" x=\"67.5\" y=\"-14.2\" font-family=\"Times New Roman,serif\" font-size=\"14.00\">data 2.0000</text>\n",
       "<polyline fill=\"none\" stroke=\"black\" points=\"107.75,-1.75 107.75,-37.5\"/>\n",
       "<text text-anchor=\"middle\" x=\"148.75\" y=\"-14.2\" font-family=\"Times New Roman,serif\" font-size=\"14.00\">grad 6.0000</text>\n",
       "</g>\n",
       "<!-- 1383233499536&#45;&gt;1383233488256* -->\n",
       "<g id=\"edge7\" class=\"edge\">\n",
       "<title>1383233499536&#45;&gt;1383233488256*</title>\n",
       "<path fill=\"none\" stroke=\"black\" d=\"M189.32,-34.97C200.46,-36.87 211.28,-38.71 220.89,-40.35\"/>\n",
       "<polygon fill=\"black\" stroke=\"black\" points=\"220.11,-43.94 230.56,-42.17 221.29,-37.04 220.11,-43.94\"/>\n",
       "</g>\n",
       "</g>\n",
       "</svg>\n"
      ],
      "text/plain": [
       "<graphviz.graphs.Digraph at 0x1420d0e7b80>"
      ]
     },
     "execution_count": 33,
     "metadata": {},
     "output_type": "execute_result"
    }
   ],
   "source": [
    "draw_dot(L)"
   ]
  },
  {
   "cell_type": "code",
   "execution_count": 34,
   "metadata": {},
   "outputs": [
    {
     "name": "stdout",
     "output_type": "stream",
     "text": [
      "-47.466161994950106\n"
     ]
    }
   ],
   "source": [
    "a.data += 0.01 * a.grad\n",
    "b.data += 0.01 * b.grad\n",
    "c.data += 0.01 * c.grad\n",
    "f.data += 0.01 * f.grad\n",
    "\n",
    "e = a * b\n",
    "d = e + c\n",
    "L = d * f\n",
    "\n",
    "print(L.data)\n"
   ]
  },
  {
   "cell_type": "code",
   "execution_count": 22,
   "metadata": {},
   "outputs": [
    {
     "name": "stdout",
     "output_type": "stream",
     "text": [
      "-3.9999999999995595\n"
     ]
    }
   ],
   "source": [
    "def lol():\n",
    "  \n",
    "  h = 0.001\n",
    "  \n",
    "  a = Value(2.0, label='a')\n",
    "  b = Value(-3.0, label='b')\n",
    "  c = Value(10.0, label='c')\n",
    "  e = a*b; e.label = 'e'\n",
    "  d = e + c; d.label = 'd'\n",
    "  f = Value(-2.0, label='f')\n",
    "  L = d * f; L.label = 'L'\n",
    "  L1 = L.data\n",
    "  \n",
    "  a = Value(2.0, label='a')\n",
    "  b = Value(-3.0, label='b')\n",
    "  b.data += h\n",
    "  c = Value(10.0, label='c')\n",
    "  e = a*b; e.label = 'e'\n",
    "  d = e + c; d.label = 'd'\n",
    "  f = Value(-2.0, label='f')\n",
    "  L = d * f; L.label = 'L'\n",
    "  L2 = L.data\n",
    "  \n",
    "  print((L2 - L1)/h)\n",
    "  \n",
    "lol()"
   ]
  },
  {
   "cell_type": "code",
   "execution_count": 16,
   "metadata": {},
   "outputs": [
    {
     "data": {
      "image/png": "[encoded data removed]",
      "text/plain": [
       "<Figure size 640x480 with 1 Axes>"
      ]
     },
     "metadata": {},
     "output_type": "display_data"
    }
   ],
   "source": [
    "plt.plot(np.arange(-5,5,0.2), np.tanh(np.arange(-5,5,0.2))); plt.grid();"
   ]
  },
  {
   "cell_type": "code",
   "execution_count": 17,
   "metadata": {},
   "outputs": [],
   "source": [
    "# inputs x1,x2\n",
    "x1 = Value(2.0, label='x1')\n",
    "x2 = Value(0.0, label='x2')\n",
    "# weights w1,w2\n",
    "w1 = Value(-3.0, label='w1')\n",
    "w2 = Value(1.0, label='w2')\n",
    "# bias of the neuron\n",
    "b = Value(6.8813735870195432, label='b')\n",
    "# x1*w1 + x2*w2 + b\n",
    "x1w1 = x1*w1; x1w1.label = 'x1*w1'\n",
    "x2w2 = x2*w2; x2w2.label = 'x2*w2'\n",
    "x1w1x2w2 = x1w1 + x2w2; x1w1x2w2.label = 'x1*w1 + x2*w2'\n",
    "n = x1w1x2w2 + b; n.label = 'n'\n",
    "o = n.tanh(); o.label = 'o'"
   ]
  },
  {
   "cell_type": "code",
   "execution_count": 28,
   "metadata": {},
   "outputs": [
    {
     "data": {
      "image/svg+xml": [
       "<?xml version=\"1.0\" encoding=\"UTF-8\" standalone=\"no\"?>\n",
       "<!DOCTYPE svg PUBLIC \"-//W3C//DTD SVG 1.1//EN\"\n",
       " \"http://www.w3.org/Graphics/SVG/1.1/DTD/svg11.dtd\">\n",
       "<!-- Generated by graphviz version 8.1.0 (20230707.0739)\n",
       " -->\n",
       "<!-- Pages: 1 -->\n",
       "<svg width=\"1582pt\" height=\"210pt\"\n",
       " viewBox=\"0.00 0.00 1581.50 210.00\" xmlns=\"http://www.w3.org/2000/svg\" xmlns:xlink=\"http://www.w3.org/1999/xlink\">\n",
       "<g id=\"graph0\" class=\"graph\" transform=\"scale(1 1) rotate(0) translate(4 206)\">\n",
       "<polygon fill=\"white\" stroke=\"none\" points=\"-4,4 -4,-206 1577.5,-206 1577.5,4 -4,4\"/>\n",
       "<!-- 1383198508080 -->\n",
       "<g id=\"node1\" class=\"node\">\n",
       "<title>1383198508080</title>\n",
       "<polygon fill=\"none\" stroke=\"black\" points=\"332.25,-55.5 332.25,-91.5 552,-91.5 552,-55.5 332.25,-55.5\"/>\n",
       "<text text-anchor=\"middle\" x=\"358.63\" y=\"-68.2\" font-family=\"Times New Roman,serif\" font-size=\"14.00\">x1*w1</text>\n",
       "<polyline fill=\"none\" stroke=\"black\" points=\"385,-55.75 385,-91.5\"/>\n",
       "<text text-anchor=\"middle\" x=\"427.5\" y=\"-68.2\" font-family=\"Times New Roman,serif\" font-size=\"14.00\">data &#45;6.0000</text>\n",
       "<polyline fill=\"none\" stroke=\"black\" points=\"470,-55.75 470,-91.5\"/>\n",
       "<text text-anchor=\"middle\" x=\"511\" y=\"-68.2\" font-family=\"Times New Roman,serif\" font-size=\"14.00\">grad 5.0000</text>\n",
       "</g>\n",
       "<!-- 1383198520512+ -->\n",
       "<g id=\"node6\" class=\"node\">\n",
       "<title>1383198520512+</title>\n",
       "<ellipse fill=\"none\" stroke=\"black\" cx=\"615\" cy=\"-100.5\" rx=\"27\" ry=\"18\"/>\n",
       "<text text-anchor=\"middle\" x=\"615\" y=\"-95.08\" font-family=\"Times New Roman,serif\" font-size=\"14.00\">+</text>\n",
       "</g>\n",
       "<!-- 1383198508080&#45;&gt;1383198520512+ -->\n",
       "<g id=\"edge14\" class=\"edge\">\n",
       "<title>1383198508080&#45;&gt;1383198520512+</title>\n",
       "<path fill=\"none\" stroke=\"black\" d=\"M551.83,-90.68C561.04,-92.13 569.87,-93.53 577.83,-94.78\"/>\n",
       "<polygon fill=\"black\" stroke=\"black\" points=\"577.03,-98.36 587.45,-96.46 578.12,-91.45 577.03,-98.36\"/>\n",
       "</g>\n",
       "<!-- 1383198508080* -->\n",
       "<g id=\"node2\" class=\"node\">\n",
       "<title>1383198508080*</title>\n",
       "<ellipse fill=\"none\" stroke=\"black\" cx=\"269.25\" cy=\"-73.5\" rx=\"27\" ry=\"18\"/>\n",
       "<text text-anchor=\"middle\" x=\"269.25\" y=\"-68.08\" font-family=\"Times New Roman,serif\" font-size=\"14.00\">*</text>\n",
       "</g>\n",
       "<!-- 1383198508080*&#45;&gt;1383198508080 -->\n",
       "<g id=\"edge1\" class=\"edge\">\n",
       "<title>1383198508080*&#45;&gt;1383198508080</title>\n",
       "<path fill=\"none\" stroke=\"black\" d=\"M296.57,-73.5C303.91,-73.5 312.38,-73.5 321.48,-73.5\"/>\n",
       "<polygon fill=\"black\" stroke=\"black\" points=\"321.41,-77 331.41,-73.5 321.41,-70 321.41,-77\"/>\n",
       "</g>\n",
       "<!-- 1383198515760 -->\n",
       "<g id=\"node3\" class=\"node\">\n",
       "<title>1383198515760</title>\n",
       "<polygon fill=\"none\" stroke=\"black\" points=\"1076.25,-109.5 1076.25,-145.5 1261.5,-145.5 1261.5,-109.5 1076.25,-109.5\"/>\n",
       "<text text-anchor=\"middle\" x=\"1087.63\" y=\"-122.2\" font-family=\"Times New Roman,serif\" font-size=\"14.00\">n</text>\n",
       "<polyline fill=\"none\" stroke=\"black\" points=\"1099,-109.75 1099,-145.5\"/>\n",
       "<text text-anchor=\"middle\" x=\"1139.25\" y=\"-122.2\" font-family=\"Times New Roman,serif\" font-size=\"14.00\">data 0.8814</text>\n",
       "<polyline fill=\"none\" stroke=\"black\" points=\"1179.5,-109.75 1179.5,-145.5\"/>\n",
       "<text text-anchor=\"middle\" x=\"1220.5\" y=\"-122.2\" font-family=\"Times New Roman,serif\" font-size=\"14.00\">grad 1.5000</text>\n",
       "</g>\n",
       "<!-- 1383198515088tanh -->\n",
       "<g id=\"node13\" class=\"node\">\n",
       "<title>1383198515088tanh</title>\n",
       "<ellipse fill=\"none\" stroke=\"black\" cx=\"1324.5\" cy=\"-127.5\" rx=\"27\" ry=\"18\"/>\n",
       "<text text-anchor=\"middle\" x=\"1324.5\" y=\"-122.08\" font-family=\"Times New Roman,serif\" font-size=\"14.00\">tanh</text>\n",
       "</g>\n",
       "<!-- 1383198515760&#45;&gt;1383198515088tanh -->\n",
       "<g id=\"edge9\" class=\"edge\">\n",
       "<title>1383198515760&#45;&gt;1383198515088tanh</title>\n",
       "<path fill=\"none\" stroke=\"black\" d=\"M1261.46,-127.5C1270.08,-127.5 1278.44,-127.5 1286.09,-127.5\"/>\n",
       "<polygon fill=\"black\" stroke=\"black\" points=\"1286.08,-131 1296.08,-127.5 1286.08,-124 1286.08,-131\"/>\n",
       "</g>\n",
       "<!-- 1383198515760+ -->\n",
       "<g id=\"node4\" class=\"node\">\n",
       "<title>1383198515760+</title>\n",
       "<ellipse fill=\"none\" stroke=\"black\" cx=\"1013.25\" cy=\"-127.5\" rx=\"27\" ry=\"18\"/>\n",
       "<text text-anchor=\"middle\" x=\"1013.25\" y=\"-122.08\" font-family=\"Times New Roman,serif\" font-size=\"14.00\">+</text>\n",
       "</g>\n",
       "<!-- 1383198515760+&#45;&gt;1383198515760 -->\n",
       "<g id=\"edge2\" class=\"edge\">\n",
       "<title>1383198515760+&#45;&gt;1383198515760</title>\n",
       "<path fill=\"none\" stroke=\"black\" d=\"M1040.66,-127.5C1048.06,-127.5 1056.57,-127.5 1065.62,-127.5\"/>\n",
       "<polygon fill=\"black\" stroke=\"black\" points=\"1065.45,-131 1075.45,-127.5 1065.45,-124 1065.45,-131\"/>\n",
       "</g>\n",
       "<!-- 1383198520512 -->\n",
       "<g id=\"node5\" class=\"node\">\n",
       "<title>1383198520512</title>\n",
       "<polygon fill=\"none\" stroke=\"black\" points=\"678,-82.5 678,-118.5 950.25,-118.5 950.25,-82.5 678,-82.5\"/>\n",
       "<text text-anchor=\"middle\" x=\"730.63\" y=\"-95.2\" font-family=\"Times New Roman,serif\" font-size=\"14.00\">x1*w1 + x2*w2</text>\n",
       "<polyline fill=\"none\" stroke=\"black\" points=\"783.25,-82.75 783.25,-118.5\"/>\n",
       "<text text-anchor=\"middle\" x=\"825.75\" y=\"-95.2\" font-family=\"Times New Roman,serif\" font-size=\"14.00\">data &#45;6.0000</text>\n",
       "<polyline fill=\"none\" stroke=\"black\" points=\"868.25,-82.75 868.25,-118.5\"/>\n",
       "<text text-anchor=\"middle\" x=\"909.25\" y=\"-95.2\" font-family=\"Times New Roman,serif\" font-size=\"14.00\">grad 3.0000</text>\n",
       "</g>\n",
       "<!-- 1383198520512&#45;&gt;1383198515760+ -->\n",
       "<g id=\"edge8\" class=\"edge\">\n",
       "<title>1383198520512&#45;&gt;1383198515760+</title>\n",
       "<path fill=\"none\" stroke=\"black\" d=\"M946.34,-118.47C956.78,-119.9 966.68,-121.26 975.47,-122.46\"/>\n",
       "<polygon fill=\"black\" stroke=\"black\" points=\"974.97,-126.06 985.35,-123.95 975.92,-119.13 974.97,-126.06\"/>\n",
       "</g>\n",
       "<!-- 1383198520512+&#45;&gt;1383198520512 -->\n",
       "<g id=\"edge3\" class=\"edge\">\n",
       "<title>1383198520512+&#45;&gt;1383198520512</title>\n",
       "<path fill=\"none\" stroke=\"black\" d=\"M642.18,-100.5C649.56,-100.5 658.15,-100.5 667.47,-100.5\"/>\n",
       "<polygon fill=\"black\" stroke=\"black\" points=\"667.28,-104 677.28,-100.5 667.28,-97 667.28,-104\"/>\n",
       "</g>\n",
       "<!-- 1383198522048 -->\n",
       "<g id=\"node7\" class=\"node\">\n",
       "<title>1383198522048</title>\n",
       "<polygon fill=\"none\" stroke=\"black\" points=\"0,-55.5 0,-91.5 206.25,-91.5 206.25,-55.5 0,-55.5\"/>\n",
       "<text text-anchor=\"middle\" x=\"16.25\" y=\"-68.2\" font-family=\"Times New Roman,serif\" font-size=\"14.00\">w1</text>\n",
       "<polyline fill=\"none\" stroke=\"black\" points=\"32.5,-55.75 32.5,-91.5\"/>\n",
       "<text text-anchor=\"middle\" x=\"75\" y=\"-68.2\" font-family=\"Times New Roman,serif\" font-size=\"14.00\">data &#45;3.0000</text>\n",
       "<polyline fill=\"none\" stroke=\"black\" points=\"117.5,-55.75 117.5,-91.5\"/>\n",
       "<text text-anchor=\"middle\" x=\"161.88\" y=\"-68.2\" font-family=\"Times New Roman,serif\" font-size=\"14.00\">grad 15.0000</text>\n",
       "</g>\n",
       "<!-- 1383198522048&#45;&gt;1383198508080* -->\n",
       "<g id=\"edge12\" class=\"edge\">\n",
       "<title>1383198522048&#45;&gt;1383198508080*</title>\n",
       "<path fill=\"none\" stroke=\"black\" d=\"M206.2,-73.5C215.05,-73.5 223.57,-73.5 231.31,-73.5\"/>\n",
       "<polygon fill=\"black\" stroke=\"black\" points=\"231.04,-77 241.04,-73.5 231.04,-70 231.04,-77\"/>\n",
       "</g>\n",
       "<!-- 1383198519504 -->\n",
       "<g id=\"node8\" class=\"node\">\n",
       "<title>1383198519504</title>\n",
       "<polygon fill=\"none\" stroke=\"black\" points=\"7.13,-165.5 7.13,-201.5 199.13,-201.5 199.13,-165.5 7.13,-165.5\"/>\n",
       "<text text-anchor=\"middle\" x=\"21.88\" y=\"-178.2\" font-family=\"Times New Roman,serif\" font-size=\"14.00\">x2</text>\n",
       "<polyline fill=\"none\" stroke=\"black\" points=\"36.63,-165.75 36.63,-201.5\"/>\n",
       "<text text-anchor=\"middle\" x=\"76.88\" y=\"-178.2\" font-family=\"Times New Roman,serif\" font-size=\"14.00\">data 0.0000</text>\n",
       "<polyline fill=\"none\" stroke=\"black\" points=\"117.13,-165.75 117.13,-201.5\"/>\n",
       "<text text-anchor=\"middle\" x=\"158.13\" y=\"-178.2\" font-family=\"Times New Roman,serif\" font-size=\"14.00\">grad 7.5000</text>\n",
       "</g>\n",
       "<!-- 1383198519264* -->\n",
       "<g id=\"node15\" class=\"node\">\n",
       "<title>1383198519264*</title>\n",
       "<ellipse fill=\"none\" stroke=\"black\" cx=\"269.25\" cy=\"-128.5\" rx=\"27\" ry=\"18\"/>\n",
       "<text text-anchor=\"middle\" x=\"269.25\" y=\"-123.08\" font-family=\"Times New Roman,serif\" font-size=\"14.00\">*</text>\n",
       "</g>\n",
       "<!-- 1383198519504&#45;&gt;1383198519264* -->\n",
       "<g id=\"edge11\" class=\"edge\">\n",
       "<title>1383198519504&#45;&gt;1383198519264*</title>\n",
       "<path fill=\"none\" stroke=\"black\" d=\"M177.93,-165.55C187.53,-162.76 197.18,-159.72 206.25,-156.5 216.58,-152.83 227.56,-148.15 237.37,-143.66\"/>\n",
       "<polygon fill=\"black\" stroke=\"black\" points=\"238.52,-146.52 246.09,-139.11 235.55,-140.18 238.52,-146.52\"/>\n",
       "</g>\n",
       "<!-- 1383198522096 -->\n",
       "<g id=\"node9\" class=\"node\">\n",
       "<title>1383198522096</title>\n",
       "<polygon fill=\"none\" stroke=\"black\" points=\"5.63,-110.5 5.63,-146.5 200.63,-146.5 200.63,-110.5 5.63,-110.5\"/>\n",
       "<text text-anchor=\"middle\" x=\"21.88\" y=\"-123.2\" font-family=\"Times New Roman,serif\" font-size=\"14.00\">w2</text>\n",
       "<polyline fill=\"none\" stroke=\"black\" points=\"38.13,-110.75 38.13,-146.5\"/>\n",
       "<text text-anchor=\"middle\" x=\"78.38\" y=\"-123.2\" font-family=\"Times New Roman,serif\" font-size=\"14.00\">data 1.0000</text>\n",
       "<polyline fill=\"none\" stroke=\"black\" points=\"118.63,-110.75 118.63,-146.5\"/>\n",
       "<text text-anchor=\"middle\" x=\"159.63\" y=\"-123.2\" font-family=\"Times New Roman,serif\" font-size=\"14.00\">grad 0.0000</text>\n",
       "</g>\n",
       "<!-- 1383198522096&#45;&gt;1383198519264* -->\n",
       "<g id=\"edge6\" class=\"edge\">\n",
       "<title>1383198522096&#45;&gt;1383198519264*</title>\n",
       "<path fill=\"none\" stroke=\"black\" d=\"M200.55,-128.5C211.36,-128.5 221.83,-128.5 231.18,-128.5\"/>\n",
       "<polygon fill=\"black\" stroke=\"black\" points=\"230.96,-132 240.96,-128.5 230.96,-125 230.96,-132\"/>\n",
       "</g>\n",
       "<!-- 1383198522144 -->\n",
       "<g id=\"node10\" class=\"node\">\n",
       "<title>1383198522144</title>\n",
       "<polygon fill=\"none\" stroke=\"black\" points=\"1.5,-0.5 1.5,-36.5 204.75,-36.5 204.75,-0.5 1.5,-0.5\"/>\n",
       "<text text-anchor=\"middle\" x=\"16.25\" y=\"-13.2\" font-family=\"Times New Roman,serif\" font-size=\"14.00\">x1</text>\n",
       "<polyline fill=\"none\" stroke=\"black\" points=\"31,-0.75 31,-36.5\"/>\n",
       "<text text-anchor=\"middle\" x=\"71.25\" y=\"-13.2\" font-family=\"Times New Roman,serif\" font-size=\"14.00\">data 2.0000</text>\n",
       "<polyline fill=\"none\" stroke=\"black\" points=\"111.5,-0.75 111.5,-36.5\"/>\n",
       "<text text-anchor=\"middle\" x=\"158.13\" y=\"-13.2\" font-family=\"Times New Roman,serif\" font-size=\"14.00\">grad &#45;22.5000</text>\n",
       "</g>\n",
       "<!-- 1383198522144&#45;&gt;1383198508080* -->\n",
       "<g id=\"edge10\" class=\"edge\">\n",
       "<title>1383198522144&#45;&gt;1383198508080*</title>\n",
       "<path fill=\"none\" stroke=\"black\" d=\"M174.85,-36.47C185.45,-39.58 196.19,-42.95 206.25,-46.5 216.33,-50.06 227.09,-54.5 236.76,-58.75\"/>\n",
       "<polygon fill=\"black\" stroke=\"black\" points=\"235.19,-62.33 245.75,-63.23 238.06,-55.94 235.19,-62.33\"/>\n",
       "</g>\n",
       "<!-- 1383198522192 -->\n",
       "<g id=\"node11\" class=\"node\">\n",
       "<title>1383198522192</title>\n",
       "<polygon fill=\"none\" stroke=\"black\" points=\"721.13,-137.5 721.13,-173.5 907.13,-173.5 907.13,-137.5 721.13,-137.5\"/>\n",
       "<text text-anchor=\"middle\" x=\"732.88\" y=\"-150.2\" font-family=\"Times New Roman,serif\" font-size=\"14.00\">b</text>\n",
       "<polyline fill=\"none\" stroke=\"black\" points=\"744.63,-137.75 744.63,-173.5\"/>\n",
       "<text text-anchor=\"middle\" x=\"784.88\" y=\"-150.2\" font-family=\"Times New Roman,serif\" font-size=\"14.00\">data 6.8814</text>\n",
       "<polyline fill=\"none\" stroke=\"black\" points=\"825.13,-137.75 825.13,-173.5\"/>\n",
       "<text text-anchor=\"middle\" x=\"866.13\" y=\"-150.2\" font-family=\"Times New Roman,serif\" font-size=\"14.00\">grad 3.0000</text>\n",
       "</g>\n",
       "<!-- 1383198522192&#45;&gt;1383198515760+ -->\n",
       "<g id=\"edge7\" class=\"edge\">\n",
       "<title>1383198522192&#45;&gt;1383198515760+</title>\n",
       "<path fill=\"none\" stroke=\"black\" d=\"M907.05,-142.44C931.38,-138.99 956.26,-135.45 975.71,-132.69\"/>\n",
       "<polygon fill=\"black\" stroke=\"black\" points=\"976.08,-136.03 985.48,-131.16 975.09,-129.1 976.08,-136.03\"/>\n",
       "</g>\n",
       "<!-- 1383198515088 -->\n",
       "<g id=\"node12\" class=\"node\">\n",
       "<title>1383198515088</title>\n",
       "<polygon fill=\"none\" stroke=\"black\" points=\"1387.5,-109.5 1387.5,-145.5 1573.5,-145.5 1573.5,-109.5 1387.5,-109.5\"/>\n",
       "<text text-anchor=\"middle\" x=\"1399.25\" y=\"-122.2\" font-family=\"Times New Roman,serif\" font-size=\"14.00\">o</text>\n",
       "<polyline fill=\"none\" stroke=\"black\" points=\"1411,-109.75 1411,-145.5\"/>\n",
       "<text text-anchor=\"middle\" x=\"1451.25\" y=\"-122.2\" font-family=\"Times New Roman,serif\" font-size=\"14.00\">data 0.7071</text>\n",
       "<polyline fill=\"none\" stroke=\"black\" points=\"1491.5,-109.75 1491.5,-145.5\"/>\n",
       "<text text-anchor=\"middle\" x=\"1532.5\" y=\"-122.2\" font-family=\"Times New Roman,serif\" font-size=\"14.00\">grad 1.0000</text>\n",
       "</g>\n",
       "<!-- 1383198515088tanh&#45;&gt;1383198515088 -->\n",
       "<g id=\"edge4\" class=\"edge\">\n",
       "<title>1383198515088tanh&#45;&gt;1383198515088</title>\n",
       "<path fill=\"none\" stroke=\"black\" d=\"M1351.97,-127.5C1359.33,-127.5 1367.79,-127.5 1376.77,-127.5\"/>\n",
       "<polygon fill=\"black\" stroke=\"black\" points=\"1376.53,-131 1386.53,-127.5 1376.53,-124 1376.53,-131\"/>\n",
       "</g>\n",
       "<!-- 1383198519264 -->\n",
       "<g id=\"node14\" class=\"node\">\n",
       "<title>1383198519264</title>\n",
       "<polygon fill=\"none\" stroke=\"black\" points=\"334.5,-110.5 334.5,-146.5 549.75,-146.5 549.75,-110.5 334.5,-110.5\"/>\n",
       "<text text-anchor=\"middle\" x=\"360.88\" y=\"-123.2\" font-family=\"Times New Roman,serif\" font-size=\"14.00\">x2*w2</text>\n",
       "<polyline fill=\"none\" stroke=\"black\" points=\"387.25,-110.75 387.25,-146.5\"/>\n",
       "<text text-anchor=\"middle\" x=\"427.5\" y=\"-123.2\" font-family=\"Times New Roman,serif\" font-size=\"14.00\">data 0.0000</text>\n",
       "<polyline fill=\"none\" stroke=\"black\" points=\"467.75,-110.75 467.75,-146.5\"/>\n",
       "<text text-anchor=\"middle\" x=\"508.75\" y=\"-123.2\" font-family=\"Times New Roman,serif\" font-size=\"14.00\">grad 5.0000</text>\n",
       "</g>\n",
       "<!-- 1383198519264&#45;&gt;1383198520512+ -->\n",
       "<g id=\"edge13\" class=\"edge\">\n",
       "<title>1383198519264&#45;&gt;1383198520512+</title>\n",
       "<path fill=\"none\" stroke=\"black\" d=\"M549.4,-111.09C559.4,-109.45 569,-107.87 577.6,-106.46\"/>\n",
       "<polygon fill=\"black\" stroke=\"black\" points=\"577.97,-109.79 587.27,-104.72 576.84,-102.88 577.97,-109.79\"/>\n",
       "</g>\n",
       "<!-- 1383198519264*&#45;&gt;1383198519264 -->\n",
       "<g id=\"edge5\" class=\"edge\">\n",
       "<title>1383198519264*&#45;&gt;1383198519264</title>\n",
       "<path fill=\"none\" stroke=\"black\" d=\"M296.57,-128.5C304.48,-128.5 313.71,-128.5 323.62,-128.5\"/>\n",
       "<polygon fill=\"black\" stroke=\"black\" points=\"323.59,-132 333.59,-128.5 323.59,-125 323.59,-132\"/>\n",
       "</g>\n",
       "</g>\n",
       "</svg>\n"
      ],
      "text/plain": [
       "<graphviz.graphs.Digraph at 0x1420d0e6e60>"
      ]
     },
     "execution_count": 28,
     "metadata": {},
     "output_type": "execute_result"
    }
   ],
   "source": [
    "draw_dot(o)"
   ]
  },
  {
   "cell_type": "code",
   "execution_count": 27,
   "metadata": {},
   "outputs": [],
   "source": [
    "o.backward()"
   ]
  },
  {
   "cell_type": "code",
   "execution_count": 29,
   "metadata": {},
   "outputs": [
    {
     "data": {
      "text/plain": [
       "[Value(data=2.0),\n",
       " Value(data=-3.0),\n",
       " Value(data=-6.0),\n",
       " Value(data=0.0),\n",
       " Value(data=1.0),\n",
       " Value(data=0.0),\n",
       " Value(data=-6.0),\n",
       " Value(data=6.881373587019543),\n",
       " Value(data=0.8813735870195432),\n",
       " Value(data=0.7071067811865476)]"
      ]
     },
     "execution_count": 29,
     "metadata": {},
     "output_type": "execute_result"
    }
   ],
   "source": [
    "topo = []\n",
    "visited = set()\n",
    "def build_topo(v):\n",
    "  if v not in visited:\n",
    "    visited.add(v)\n",
    "    for child in v._prev:\n",
    "      build_topo(child)\n",
    "    topo.append(v)\n",
    "build_topo(o)\n",
    "topo"
   ]
  },
  {
   "cell_type": "code",
   "execution_count": 30,
   "metadata": {},
   "outputs": [],
   "source": [
    "o.grad = 1.0"
   ]
  },
  {
   "cell_type": "code",
   "execution_count": 223,
   "metadata": {},
   "outputs": [],
   "source": [
    "o._backward()"
   ]
  },
  {
   "cell_type": "code",
   "execution_count": 225,
   "metadata": {},
   "outputs": [],
   "source": [
    "n._backward()"
   ]
  },
  {
   "cell_type": "code",
   "execution_count": 227,
   "metadata": {},
   "outputs": [],
   "source": [
    "b._backward()"
   ]
  },
  {
   "cell_type": "code",
   "execution_count": 228,
   "metadata": {},
   "outputs": [],
   "source": [
    "x1w1x2w2._backward()"
   ]
  },
  {
   "cell_type": "code",
   "execution_count": 230,
   "metadata": {},
   "outputs": [],
   "source": [
    "x2w2._backward()\n",
    "x1w1._backward()"
   ]
  },
  {
   "cell_type": "code",
   "execution_count": 200,
   "metadata": {},
   "outputs": [],
   "source": [
    "x1.grad = w1.data * x1w1.grad\n",
    "w1.grad = x1.data * x1w1.grad"
   ]
  },
  {
   "cell_type": "code",
   "execution_count": 198,
   "metadata": {},
   "outputs": [],
   "source": [
    "x2.grad = w2.data * x2w2.grad\n",
    "w2.grad = x2.data * x2w2.grad"
   ]
  },
  {
   "cell_type": "code",
   "execution_count": 196,
   "metadata": {},
   "outputs": [],
   "source": [
    "x1w1.grad = 0.5\n",
    "x2w2.grad = 0.5"
   ]
  },
  {
   "cell_type": "code",
   "execution_count": 194,
   "metadata": {},
   "outputs": [],
   "source": [
    "x1w1x2w2.grad = 0.5\n",
    "b.grad = 0.5"
   ]
  },
  {
   "cell_type": "code",
   "execution_count": 192,
   "metadata": {},
   "outputs": [],
   "source": [
    "n.grad = 0.5"
   ]
  },
  {
   "cell_type": "code",
   "execution_count": 187,
   "metadata": {},
   "outputs": [],
   "source": [
    "o.grad = 1.0"
   ]
  },
  {
   "cell_type": "code",
   "execution_count": 191,
   "metadata": {},
   "outputs": [
    {
     "data": {
      "text/plain": [
       "0.4999999999999999"
      ]
     },
     "execution_count": 191,
     "metadata": {},
     "output_type": "execute_result"
    }
   ],
   "source": [
    "1 - o.data**2"
   ]
  },
  {
   "cell_type": "code",
   "execution_count": null,
   "metadata": {},
   "outputs": [],
   "source": [
    "# o = tanh(n)\n",
    "# do/dn = 1 - o**2"
   ]
  },
  {
   "cell_type": "code",
   "execution_count": 258,
   "metadata": {},
   "outputs": [
    {
     "data": {
      "image/svg+xml": [
       "<?xml version=\"1.0\" encoding=\"UTF-8\" standalone=\"no\"?>\n",
       "<!DOCTYPE svg PUBLIC \"-//W3C//DTD SVG 1.1//EN\"\n",
       " \"http://www.w3.org/Graphics/SVG/1.1/DTD/svg11.dtd\">\n",
       "<!-- Generated by graphviz version 3.0.0 (20220226.1711)\n",
       " -->\n",
       "<!-- Pages: 1 -->\n",
       "<svg width=\"504pt\" height=\"45pt\"\n",
       " viewBox=\"0.00 0.00 504.00 45.00\" xmlns=\"http://www.w3.org/2000/svg\" xmlns:xlink=\"http://www.w3.org/1999/xlink\">\n",
       "<g id=\"graph0\" class=\"graph\" transform=\"scale(1 1) rotate(0) translate(4 41)\">\n",
       "<polygon fill=\"white\" stroke=\"transparent\" points=\"-4,4 -4,-41 500,-41 500,4 -4,4\"/>\n",
       "<!-- 140307056784240 -->\n",
       "<g id=\"node1\" class=\"node\">\n",
       "<title>140307056784240</title>\n",
       "<polygon fill=\"none\" stroke=\"black\" points=\"0,-0.5 0,-36.5 185,-36.5 185,-0.5 0,-0.5\"/>\n",
       "<text text-anchor=\"middle\" x=\"11.5\" y=\"-14.8\" font-family=\"Times,serif\" font-size=\"14.00\">a</text>\n",
       "<polyline fill=\"none\" stroke=\"black\" points=\"23,-0.5 23,-36.5 \"/>\n",
       "<text text-anchor=\"middle\" x=\"63\" y=\"-14.8\" font-family=\"Times,serif\" font-size=\"14.00\">data 3.0000</text>\n",
       "<polyline fill=\"none\" stroke=\"black\" points=\"103,-0.5 103,-36.5 \"/>\n",
       "<text text-anchor=\"middle\" x=\"144\" y=\"-14.8\" font-family=\"Times,serif\" font-size=\"14.00\">grad 2.0000</text>\n",
       "</g>\n",
       "<!-- 140307056785008+ -->\n",
       "<g id=\"node3\" class=\"node\">\n",
       "<title>140307056785008+</title>\n",
       "<ellipse fill=\"none\" stroke=\"black\" cx=\"248\" cy=\"-18.5\" rx=\"27\" ry=\"18\"/>\n",
       "<text text-anchor=\"middle\" x=\"248\" y=\"-14.8\" font-family=\"Times,serif\" font-size=\"14.00\">+</text>\n",
       "</g>\n",
       "<!-- 140307056784240&#45;&gt;140307056785008+ -->\n",
       "<g id=\"edge2\" class=\"edge\">\n",
       "<title>140307056784240&#45;&gt;140307056785008+</title>\n",
       "<path fill=\"none\" stroke=\"black\" d=\"M185.01,-18.5C194.01,-18.5 202.74,-18.5 210.66,-18.5\"/>\n",
       "<polygon fill=\"black\" stroke=\"black\" points=\"210.91,-22 220.91,-18.5 210.91,-15 210.91,-22\"/>\n",
       "</g>\n",
       "<!-- 140307056785008 -->\n",
       "<g id=\"node2\" class=\"node\">\n",
       "<title>140307056785008</title>\n",
       "<polygon fill=\"none\" stroke=\"black\" points=\"311,-0.5 311,-36.5 496,-36.5 496,-0.5 311,-0.5\"/>\n",
       "<text text-anchor=\"middle\" x=\"322.5\" y=\"-14.8\" font-family=\"Times,serif\" font-size=\"14.00\">b</text>\n",
       "<polyline fill=\"none\" stroke=\"black\" points=\"334,-0.5 334,-36.5 \"/>\n",
       "<text text-anchor=\"middle\" x=\"374\" y=\"-14.8\" font-family=\"Times,serif\" font-size=\"14.00\">data 6.0000</text>\n",
       "<polyline fill=\"none\" stroke=\"black\" points=\"414,-0.5 414,-36.5 \"/>\n",
       "<text text-anchor=\"middle\" x=\"455\" y=\"-14.8\" font-family=\"Times,serif\" font-size=\"14.00\">grad 1.0000</text>\n",
       "</g>\n",
       "<!-- 140307056785008+&#45;&gt;140307056785008 -->\n",
       "<g id=\"edge1\" class=\"edge\">\n",
       "<title>140307056785008+&#45;&gt;140307056785008</title>\n",
       "<path fill=\"none\" stroke=\"black\" d=\"M275.04,-18.5C282.58,-18.5 291.3,-18.5 300.57,-18.5\"/>\n",
       "<polygon fill=\"black\" stroke=\"black\" points=\"300.81,-22 310.81,-18.5 300.81,-15 300.81,-22\"/>\n",
       "</g>\n",
       "</g>\n",
       "</svg>\n"
      ],
      "text/plain": [
       "<graphviz.graphs.Digraph at 0x7f9b983636d0>"
      ]
     },
     "execution_count": 258,
     "metadata": {},
     "output_type": "execute_result"
    }
   ],
   "source": [
    "a = Value(3.0, label='a')\n",
    "b = a + a   ; b.label = 'b'\n",
    "b.backward()\n",
    "draw_dot(b)"
   ]
  },
  {
   "cell_type": "code",
   "execution_count": 259,
   "metadata": {},
   "outputs": [
    {
     "data": {
      "image/svg+xml": [
       "<?xml version=\"1.0\" encoding=\"UTF-8\" standalone=\"no\"?>\n",
       "<!DOCTYPE svg PUBLIC \"-//W3C//DTD SVG 1.1//EN\"\n",
       " \"http://www.w3.org/Graphics/SVG/1.1/DTD/svg11.dtd\">\n",
       "<!-- Generated by graphviz version 3.0.0 (20220226.1711)\n",
       " -->\n",
       "<!-- Pages: 1 -->\n",
       "<svg width=\"832pt\" height=\"100pt\"\n",
       " viewBox=\"0.00 0.00 832.00 100.00\" xmlns=\"http://www.w3.org/2000/svg\" xmlns:xlink=\"http://www.w3.org/1999/xlink\">\n",
       "<g id=\"graph0\" class=\"graph\" transform=\"scale(1 1) rotate(0) translate(4 96)\">\n",
       "<polygon fill=\"white\" stroke=\"transparent\" points=\"-4,4 -4,-96 828,-96 828,4 -4,4\"/>\n",
       "<!-- 140306525506048 -->\n",
       "<g id=\"node1\" class=\"node\">\n",
       "<title>140306525506048</title>\n",
       "<polygon fill=\"none\" stroke=\"black\" points=\"0,-55.5 0,-91.5 194,-91.5 194,-55.5 0,-55.5\"/>\n",
       "<text text-anchor=\"middle\" x=\"11.5\" y=\"-69.8\" font-family=\"Times,serif\" font-size=\"14.00\">a</text>\n",
       "<polyline fill=\"none\" stroke=\"black\" points=\"23,-55.5 23,-91.5 \"/>\n",
       "<text text-anchor=\"middle\" x=\"65.5\" y=\"-69.8\" font-family=\"Times,serif\" font-size=\"14.00\">data &#45;2.0000</text>\n",
       "<polyline fill=\"none\" stroke=\"black\" points=\"108,-55.5 108,-91.5 \"/>\n",
       "<text text-anchor=\"middle\" x=\"151\" y=\"-69.8\" font-family=\"Times,serif\" font-size=\"14.00\">grad &#45;3.0000</text>\n",
       "</g>\n",
       "<!-- 140307056785968+ -->\n",
       "<g id=\"node3\" class=\"node\">\n",
       "<title>140307056785968+</title>\n",
       "<ellipse fill=\"none\" stroke=\"black\" cx=\"257\" cy=\"-73.5\" rx=\"27\" ry=\"18\"/>\n",
       "<text text-anchor=\"middle\" x=\"257\" y=\"-69.8\" font-family=\"Times,serif\" font-size=\"14.00\">+</text>\n",
       "</g>\n",
       "<!-- 140306525506048&#45;&gt;140307056785968+ -->\n",
       "<g id=\"edge7\" class=\"edge\">\n",
       "<title>140306525506048&#45;&gt;140307056785968+</title>\n",
       "<path fill=\"none\" stroke=\"black\" d=\"M194.01,-73.5C202.98,-73.5 211.65,-73.5 219.51,-73.5\"/>\n",
       "<polygon fill=\"black\" stroke=\"black\" points=\"219.7,-77 229.7,-73.5 219.7,-70 219.7,-77\"/>\n",
       "</g>\n",
       "<!-- 140306525506912* -->\n",
       "<g id=\"node5\" class=\"node\">\n",
       "<title>140306525506912*</title>\n",
       "<ellipse fill=\"none\" stroke=\"black\" cx=\"257\" cy=\"-18.5\" rx=\"27\" ry=\"18\"/>\n",
       "<text text-anchor=\"middle\" x=\"257\" y=\"-14.8\" font-family=\"Times,serif\" font-size=\"14.00\">*</text>\n",
       "</g>\n",
       "<!-- 140306525506048&#45;&gt;140306525506912* -->\n",
       "<g id=\"edge5\" class=\"edge\">\n",
       "<title>140306525506048&#45;&gt;140306525506912*</title>\n",
       "<path fill=\"none\" stroke=\"black\" d=\"M166.84,-55.49C176.04,-52.69 185.3,-49.67 194,-46.5 204.51,-42.67 215.73,-37.84 225.7,-33.28\"/>\n",
       "<polygon fill=\"black\" stroke=\"black\" points=\"227.23,-36.43 234.81,-29.02 224.27,-30.09 227.23,-36.43\"/>\n",
       "</g>\n",
       "<!-- 140307056785968 -->\n",
       "<g id=\"node2\" class=\"node\">\n",
       "<title>140307056785968</title>\n",
       "<polygon fill=\"none\" stroke=\"black\" points=\"320.5,-55.5 320.5,-91.5 509.5,-91.5 509.5,-55.5 320.5,-55.5\"/>\n",
       "<text text-anchor=\"middle\" x=\"332\" y=\"-69.8\" font-family=\"Times,serif\" font-size=\"14.00\">e</text>\n",
       "<polyline fill=\"none\" stroke=\"black\" points=\"343.5,-55.5 343.5,-91.5 \"/>\n",
       "<text text-anchor=\"middle\" x=\"383.5\" y=\"-69.8\" font-family=\"Times,serif\" font-size=\"14.00\">data 1.0000</text>\n",
       "<polyline fill=\"none\" stroke=\"black\" points=\"423.5,-55.5 423.5,-91.5 \"/>\n",
       "<text text-anchor=\"middle\" x=\"466.5\" y=\"-69.8\" font-family=\"Times,serif\" font-size=\"14.00\">grad &#45;6.0000</text>\n",
       "</g>\n",
       "<!-- 140307056783712* -->\n",
       "<g id=\"node7\" class=\"node\">\n",
       "<title>140307056783712*</title>\n",
       "<ellipse fill=\"none\" stroke=\"black\" cx=\"573\" cy=\"-45.5\" rx=\"27\" ry=\"18\"/>\n",
       "<text text-anchor=\"middle\" x=\"573\" y=\"-41.8\" font-family=\"Times,serif\" font-size=\"14.00\">*</text>\n",
       "</g>\n",
       "<!-- 140307056785968&#45;&gt;140307056783712* -->\n",
       "<g id=\"edge8\" class=\"edge\">\n",
       "<title>140307056785968&#45;&gt;140307056783712*</title>\n",
       "<path fill=\"none\" stroke=\"black\" d=\"M509.9,-56.65C519.42,-54.94 528.62,-53.29 536.89,-51.8\"/>\n",
       "<polygon fill=\"black\" stroke=\"black\" points=\"537.59,-55.23 546.81,-50.02 536.35,-48.34 537.59,-55.23\"/>\n",
       "</g>\n",
       "<!-- 140307056785968+&#45;&gt;140307056785968 -->\n",
       "<g id=\"edge1\" class=\"edge\">\n",
       "<title>140307056785968+&#45;&gt;140307056785968</title>\n",
       "<path fill=\"none\" stroke=\"black\" d=\"M284.11,-73.5C291.84,-73.5 300.8,-73.5 310.35,-73.5\"/>\n",
       "<polygon fill=\"black\" stroke=\"black\" points=\"310.48,-77 320.48,-73.5 310.48,-70 310.48,-77\"/>\n",
       "</g>\n",
       "<!-- 140306525506912 -->\n",
       "<g id=\"node4\" class=\"node\">\n",
       "<title>140306525506912</title>\n",
       "<polygon fill=\"none\" stroke=\"black\" points=\"320,-0.5 320,-36.5 510,-36.5 510,-0.5 320,-0.5\"/>\n",
       "<text text-anchor=\"middle\" x=\"331.5\" y=\"-14.8\" font-family=\"Times,serif\" font-size=\"14.00\">d</text>\n",
       "<polyline fill=\"none\" stroke=\"black\" points=\"343,-0.5 343,-36.5 \"/>\n",
       "<text text-anchor=\"middle\" x=\"385.5\" y=\"-14.8\" font-family=\"Times,serif\" font-size=\"14.00\">data &#45;6.0000</text>\n",
       "<polyline fill=\"none\" stroke=\"black\" points=\"428,-0.5 428,-36.5 \"/>\n",
       "<text text-anchor=\"middle\" x=\"469\" y=\"-14.8\" font-family=\"Times,serif\" font-size=\"14.00\">grad 1.0000</text>\n",
       "</g>\n",
       "<!-- 140306525506912&#45;&gt;140307056783712* -->\n",
       "<g id=\"edge9\" class=\"edge\">\n",
       "<title>140306525506912&#45;&gt;140307056783712*</title>\n",
       "<path fill=\"none\" stroke=\"black\" d=\"M510.34,-34.83C519.62,-36.44 528.58,-37.99 536.66,-39.38\"/>\n",
       "<polygon fill=\"black\" stroke=\"black\" points=\"536.27,-42.87 546.72,-41.12 537.46,-35.97 536.27,-42.87\"/>\n",
       "</g>\n",
       "<!-- 140306525506912*&#45;&gt;140306525506912 -->\n",
       "<g id=\"edge2\" class=\"edge\">\n",
       "<title>140306525506912*&#45;&gt;140306525506912</title>\n",
       "<path fill=\"none\" stroke=\"black\" d=\"M284.11,-18.5C291.63,-18.5 300.32,-18.5 309.58,-18.5\"/>\n",
       "<polygon fill=\"black\" stroke=\"black\" points=\"309.81,-22 319.81,-18.5 309.81,-15 309.81,-22\"/>\n",
       "</g>\n",
       "<!-- 140307056783712 -->\n",
       "<g id=\"node6\" class=\"node\">\n",
       "<title>140307056783712</title>\n",
       "<polygon fill=\"none\" stroke=\"black\" points=\"636,-27.5 636,-63.5 824,-63.5 824,-27.5 636,-27.5\"/>\n",
       "<text text-anchor=\"middle\" x=\"646.5\" y=\"-41.8\" font-family=\"Times,serif\" font-size=\"14.00\">f</text>\n",
       "<polyline fill=\"none\" stroke=\"black\" points=\"657,-27.5 657,-63.5 \"/>\n",
       "<text text-anchor=\"middle\" x=\"699.5\" y=\"-41.8\" font-family=\"Times,serif\" font-size=\"14.00\">data &#45;6.0000</text>\n",
       "<polyline fill=\"none\" stroke=\"black\" points=\"742,-27.5 742,-63.5 \"/>\n",
       "<text text-anchor=\"middle\" x=\"783\" y=\"-41.8\" font-family=\"Times,serif\" font-size=\"14.00\">grad 1.0000</text>\n",
       "</g>\n",
       "<!-- 140307056783712*&#45;&gt;140307056783712 -->\n",
       "<g id=\"edge3\" class=\"edge\">\n",
       "<title>140307056783712*&#45;&gt;140307056783712</title>\n",
       "<path fill=\"none\" stroke=\"black\" d=\"M600.29,-45.5C607.78,-45.5 616.42,-45.5 625.6,-45.5\"/>\n",
       "<polygon fill=\"black\" stroke=\"black\" points=\"625.76,-49 635.76,-45.5 625.76,-42 625.76,-49\"/>\n",
       "</g>\n",
       "<!-- 140306525506432 -->\n",
       "<g id=\"node8\" class=\"node\">\n",
       "<title>140306525506432</title>\n",
       "<polygon fill=\"none\" stroke=\"black\" points=\"2.5,-0.5 2.5,-36.5 191.5,-36.5 191.5,-0.5 2.5,-0.5\"/>\n",
       "<text text-anchor=\"middle\" x=\"14\" y=\"-14.8\" font-family=\"Times,serif\" font-size=\"14.00\">b</text>\n",
       "<polyline fill=\"none\" stroke=\"black\" points=\"25.5,-0.5 25.5,-36.5 \"/>\n",
       "<text text-anchor=\"middle\" x=\"65.5\" y=\"-14.8\" font-family=\"Times,serif\" font-size=\"14.00\">data 3.0000</text>\n",
       "<polyline fill=\"none\" stroke=\"black\" points=\"105.5,-0.5 105.5,-36.5 \"/>\n",
       "<text text-anchor=\"middle\" x=\"148.5\" y=\"-14.8\" font-family=\"Times,serif\" font-size=\"14.00\">grad &#45;8.0000</text>\n",
       "</g>\n",
       "<!-- 140306525506432&#45;&gt;140307056785968+ -->\n",
       "<g id=\"edge6\" class=\"edge\">\n",
       "<title>140306525506432&#45;&gt;140307056785968+</title>\n",
       "<path fill=\"none\" stroke=\"black\" d=\"M163.94,-36.53C174.08,-39.65 184.37,-43.01 194,-46.5 204.27,-50.22 215.26,-54.8 225.09,-59.12\"/>\n",
       "<polygon fill=\"black\" stroke=\"black\" points=\"223.91,-62.43 234.47,-63.32 226.77,-56.04 223.91,-62.43\"/>\n",
       "</g>\n",
       "<!-- 140306525506432&#45;&gt;140306525506912* -->\n",
       "<g id=\"edge4\" class=\"edge\">\n",
       "<title>140306525506432&#45;&gt;140306525506912*</title>\n",
       "<path fill=\"none\" stroke=\"black\" d=\"M191.74,-18.5C201.55,-18.5 211.04,-18.5 219.59,-18.5\"/>\n",
       "<polygon fill=\"black\" stroke=\"black\" points=\"219.87,-22 229.87,-18.5 219.87,-15 219.87,-22\"/>\n",
       "</g>\n",
       "</g>\n",
       "</svg>\n"
      ],
      "text/plain": [
       "<graphviz.graphs.Digraph at 0x7f9ba89cc880>"
      ]
     },
     "execution_count": 259,
     "metadata": {},
     "output_type": "execute_result"
    }
   ],
   "source": [
    "a = Value(-2.0, label='a')\n",
    "b = Value(3.0, label='b')\n",
    "d = a * b    ; d.label = 'd'\n",
    "e = a + b    ; e.label = 'e'\n",
    "f = d * e    ; f.label = 'f'\n",
    "\n",
    "f.backward()\n",
    "\n",
    "draw_dot(f)"
   ]
  },
  {
   "cell_type": "code",
   "execution_count": null,
   "metadata": {},
   "outputs": [],
   "source": []
  }
 ],
 "metadata": {
  "kernelspec": {
   "display_name": "Python 3",
   "language": "python",
   "name": "python3"
  },
  "language_info": {
   "codemirror_mode": {
    "name": "ipython",
    "version": 3
   },
   "file_extension": ".py",
   "mimetype": "text/x-python",
   "name": "python",
   "nbconvert_exporter": "python",
   "pygments_lexer": "ipython3",
   "version": "3.10.7"
  }
 },
 "nbformat": 4,
 "nbformat_minor": 4
}
