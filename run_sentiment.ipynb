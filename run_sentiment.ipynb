{
 "cells": [
  {
   "cell_type": "code",
   "execution_count": 1,
   "metadata": {},
   "outputs": [],
   "source": [
    "# # In case it is necessary to run in colaboratory\n",
    "# !python colab_module_imports.py"
   ]
  },
  {
   "cell_type": "code",
   "execution_count": 1,
   "metadata": {},
   "outputs": [],
   "source": [
    "from revllm.preprocess_distilbert import PreprocessSentiment\n",
    "from revllm.analyze_distilbert import AnalyzeSentiment \n",
    "from revllm.visualize_distilbert import VisualizeSentiment"
   ]
  },
  {
   "cell_type": "markdown",
   "metadata": {},
   "source": [
    "# Sentiment Analysis\n",
    "* DistilBERT base model\n",
    "* fine-tuned on sst-2 english, a standard sentiment analysis dataset"
   ]
  },
  {
   "cell_type": "markdown",
   "metadata": {},
   "source": [
    "## The user provides:\n",
    "\n",
    "* A context\n",
    "* A ground truth answer, either positive or negative"
   ]
  },
  {
   "cell_type": "code",
   "execution_count": 2,
   "metadata": {},
   "outputs": [],
   "source": [
    "context = \"The movie had breathtaking visuals, but the storyline left a lot to be desired.\"\n",
    "ground_truth = \"negative\""
   ]
  },
  {
   "cell_type": "code",
   "execution_count": 3,
   "metadata": {},
   "outputs": [],
   "source": [
    "model_name = \"distilbert-base-uncased-finetuned-sst-2-english\""
   ]
  },
  {
   "cell_type": "code",
   "execution_count": 4,
   "metadata": {},
   "outputs": [],
   "source": [
    "preprocessor = PreprocessSentiment(model_name)\n",
    "analyzer = AnalyzeSentiment(model_name, preprocessor)\n",
    "visualizer = VisualizeSentiment(model_name, preprocessor)"
   ]
  },
  {
   "cell_type": "code",
   "execution_count": 5,
   "metadata": {},
   "outputs": [],
   "source": [
    "preprocessor(context, ground_truth)"
   ]
  },
  {
   "cell_type": "markdown",
   "metadata": {},
   "source": [
    "## .predict() method\n",
    "* predicts either positive or negative"
   ]
  },
  {
   "cell_type": "code",
   "execution_count": 6,
   "metadata": {},
   "outputs": [
    {
     "name": "stdout",
     "output_type": "stream",
     "text": [
      "        Context:  The movie had breathtaking visuals, but the storyline left a lot to be desired.\n",
      "Predicted Answer:  negative\n",
      "   Actual Answer:  negative\n"
     ]
    }
   ],
   "source": [
    "# Run the model\n",
    "analyzer.predict()"
   ]
  },
  {
   "cell_type": "markdown",
   "metadata": {},
   "source": [
    "## \"lig\" methods\n",
    "* \"lig\" is a reference to the internal method used, \"layer integrated gradients\""
   ]
  },
  {
   "cell_type": "markdown",
   "metadata": {},
   "source": [
    "### .lig_color_map() method\n",
    "* The entire text is printed \n",
    "    * Above the text for each token, its importance to model's prediction (\"attribution score\") is shown in color.  \n",
    "    * A legend is included."
   ]
  },
  {
   "cell_type": "code",
   "execution_count": 1,
   "metadata": {},
   "outputs": [],
   "source": [
    "analyzer.lig_color_map()"
   ]
  },
  {
   "cell_type": "markdown",
   "metadata": {},
   "source": [
    "### .lig_top_k_tokens() method\n",
    "* Prints the entire list of tokens\n",
    "* Prints the top k attributed tokens, for a choice of k."
   ]
  },
  {
   "cell_type": "code",
   "execution_count": null,
   "metadata": {},
   "outputs": [],
   "source": [
    "analyzer.lig_top_k_tokens(k=5)"
   ]
  },
  {
   "cell_type": "markdown",
   "metadata": {},
   "source": [
    "## \"lc\" methods\n",
    "* \"lc\" is a reference to the internal method used, \"layer conductance\""
   ]
  },
  {
   "cell_type": "markdown",
   "metadata": {},
   "source": [
    "### .lc_visualize_layers() method\n",
    "* For each token, a color tile representing the attribution score is given for each layer of the model (there are 6 layers in distilbert)."
   ]
  },
  {
   "cell_type": "code",
   "execution_count": null,
   "metadata": {},
   "outputs": [],
   "source": [
    "visualizer.lc_visualize_layers()"
   ]
  },
  {
   "cell_type": "markdown",
   "metadata": {},
   "source": [
    "### .lc_visualize_token() method\n",
    "* For a choice of token (for example \"name\"), produces some plots.\n",
    "* This method is unfinished, an explanation to come."
   ]
  },
  {
   "cell_type": "code",
   "execution_count": null,
   "metadata": {},
   "outputs": [],
   "source": [
    "visualizer.lc_visualize_token(\"but\")"
   ]
  }
 ],
 "metadata": {
  "kernelspec": {
   "display_name": "base",
   "language": "python",
   "name": "python3"
  },
  "language_info": {
   "codemirror_mode": {
    "name": "ipython",
    "version": 3
   },
   "file_extension": ".py",
   "mimetype": "text/x-python",
   "name": "python",
   "nbconvert_exporter": "python",
   "pygments_lexer": "ipython3",
   "version": "3.11.5"
  }
 },
 "nbformat": 4,
 "nbformat_minor": 2
}
