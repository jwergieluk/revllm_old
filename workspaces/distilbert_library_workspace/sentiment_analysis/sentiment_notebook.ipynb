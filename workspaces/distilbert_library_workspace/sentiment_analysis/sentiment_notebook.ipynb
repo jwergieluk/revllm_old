{
 "cells": [
  {
   "cell_type": "code",
   "execution_count": 1,
   "metadata": {},
   "outputs": [],
   "source": [
    "import numpy as np\n",
    "\n",
    "import torch\n",
    "\n",
    "from transformers import (\n",
    "    DistilBertTokenizer,\n",
    "    DistilBertForSequenceClassification\n",
    ")\n",
    "\n",
    "from revllm_copy.sentiment_analyze_distilbert import SentimentAnalysis\n",
    "from revllm_copy.sentiment_preprocess import DistilbertSentimentPreprocesser"
   ]
  },
  {
   "cell_type": "code",
   "execution_count": 2,
   "metadata": {},
   "outputs": [],
   "source": [
    "model_name = \"distilbert-base-uncased-finetuned-sst-2-english\""
   ]
  },
  {
   "cell_type": "code",
   "execution_count": 3,
   "metadata": {},
   "outputs": [],
   "source": [
    "preprocessor = DistilbertSentimentPreprocesser(model_name)\n",
    "# tokenizer = DistilBertTokenizer.from_pretrained(model_name)\n",
    "analyzer = SentimentAnalysis(model_name, preprocessor)"
   ]
  },
  {
   "cell_type": "code",
   "execution_count": 4,
   "metadata": {},
   "outputs": [
    {
     "name": "stdout",
     "output_type": "stream",
     "text": [
      "        Context:  I gotta say it was a good day.\n",
      "Predicted Answer:  positive\n",
      "   Actual Answer:  positive\n"
     ]
    }
   ],
   "source": [
    "context = \"I gotta say it was a good day.\"\n",
    "ground_truth = \"positive\"\n",
    "preprocessor(context, ground_truth)\n",
    "prediction = analyzer.predict(show_prediction=True)"
   ]
  },
  {
   "cell_type": "code",
   "execution_count": null,
   "metadata": {},
   "outputs": [],
   "source": []
  },
  {
   "cell_type": "markdown",
   "metadata": {},
   "source": [
    "# For Comparison"
   ]
  },
  {
   "cell_type": "code",
   "execution_count": null,
   "metadata": {},
   "outputs": [],
   "source": [
    "# # Load tokenizer and model\n",
    "# MODEL_NAME = \"distilbert-base-uncased-finetuned-sst-2-english\"\n",
    "# tokenizer = DistilBertTokenizer.from_pretrained(MODEL_NAME)\n",
    "# model = DistilBertForSequenceClassification.from_pretrained(MODEL_NAME)\n",
    "\n",
    "# # Function to predict sentiment\n",
    "# def predict_sentiment(text):\n",
    "#     # Tokenize input text and get tensor outputs\n",
    "#     inputs = tokenizer(text, return_tensors=\"pt\", truncation=True, padding=True, max_length=512)\n",
    "#     with torch.no_grad():\n",
    "#         outputs = model(**inputs)\n",
    "#     logits = outputs.logits\n",
    "#     probs = torch.nn.functional.softmax(logits, dim=-1)\n",
    "#     predicted_class = torch.argmax(probs, dim=-1).item()\n",
    "    \n",
    "#     # Convert to positive/negative labels\n",
    "#     labels = ['negative', 'positive']\n",
    "#     return labels[predicted_class]\n",
    "\n",
    "# # Test\n",
    "# text = \"I love this product!\"\n",
    "# result = predict_sentiment(text)\n",
    "# print(f\"The sentiment for '{text}' is: {result}\")\n"
   ]
  }
 ],
 "metadata": {
  "kernelspec": {
   "display_name": "base",
   "language": "python",
   "name": "python3"
  },
  "language_info": {
   "codemirror_mode": {
    "name": "ipython",
    "version": 3
   },
   "file_extension": ".py",
   "mimetype": "text/x-python",
   "name": "python",
   "nbconvert_exporter": "python",
   "pygments_lexer": "ipython3",
   "version": "3.11.5"
  }
 },
 "nbformat": 4,
 "nbformat_minor": 2
}
