{
 "cells": [
  {
   "cell_type": "code",
   "execution_count": 1,
   "metadata": {},
   "outputs": [],
   "source": [
    "import os\n",
    "os.chdir('c:\\\\Users\\\\hello\\\\Desktop\\\\llm_bootcamp\\\\revllm_repo')\n",
    "\n",
    "from revllm.preprocess_distilbert import PreprocessMaskedLM\n",
    "from revllm.analyze_distilbert import AnalyzeMaskedLM"
   ]
  },
  {
   "cell_type": "code",
   "execution_count": 2,
   "metadata": {},
   "outputs": [
    {
     "name": "stdout",
     "output_type": "stream",
     "text": [
      "Unmasked context:  The capital of France, Paris, contains the Eiffel Tower.\n",
      "         Context:  The capital of France, [MASK], contains the Eiffel Tower.\n",
      "    Ground truth:  paris\n",
      "Predicted answer:  paris\n"
     ]
    }
   ],
   "source": [
    "model_name = \"distilbert-base-uncased\"\n",
    "\n",
    "preprocessor = PreprocessMaskedLM(model_name)\n",
    "analyzer = AnalyzeMaskedLM(model_name, preprocessor)\n",
    "\n",
    "context = \"The capital of France, Paris, contains the Eiffel Tower.\"\n",
    "\n",
    "preprocessor(context)\n",
    "analyzer.predict()"
   ]
  },
  {
   "cell_type": "code",
   "execution_count": 4,
   "metadata": {},
   "outputs": [
    {
     "name": "stdout",
     "output_type": "stream",
     "text": [
      "torch.Size([1, 14, 30522])\n",
      "10\n"
     ]
    }
   ],
   "source": [
    "print(analyzer.logits.shape)\n",
    "print(analyzer.preprocessor.ground_truth_index)"
   ]
  },
  {
   "cell_type": "code",
   "execution_count": 27,
   "metadata": {},
   "outputs": [
    {
     "ename": "KeyError",
     "evalue": "'OrderedDict'",
     "output_type": "error",
     "traceback": [
      "\u001b[1;31m---------------------------------------------------------------------------\u001b[0m",
      "\u001b[1;31mKeyError\u001b[0m                                  Traceback (most recent call last)",
      "\u001b[1;32mc:\\Users\\hello\\Desktop\\llm_bootcamp\\revllm_repo\\workspaces\\maskedlm_workspace.ipynb Cell 5\u001b[0m line \u001b[0;36m1\n\u001b[1;32m----> <a href='vscode-notebook-cell:/c%3A/Users/hello/Desktop/llm_bootcamp/revllm_repo/workspaces/maskedlm_workspace.ipynb#Y130sZmlsZQ%3D%3D?line=0'>1</a>\u001b[0m tokenizer\u001b[39m.\u001b[39mvocab[\u001b[39m'\u001b[39m\u001b[39mOrderedDict\u001b[39m\u001b[39m'\u001b[39m][\u001b[39m1041\u001b[39m]\n",
      "\u001b[1;31mKeyError\u001b[0m: 'OrderedDict'"
     ]
    }
   ],
   "source": [
    "tokenizer.vocab.[1041]"
   ]
  }
 ],
 "metadata": {
  "kernelspec": {
   "display_name": "base",
   "language": "python",
   "name": "python3"
  },
  "language_info": {
   "codemirror_mode": {
    "name": "ipython",
    "version": 3
   },
   "file_extension": ".py",
   "mimetype": "text/x-python",
   "name": "python",
   "nbconvert_exporter": "python",
   "pygments_lexer": "ipython3",
   "version": "3.11.5"
  }
 },
 "nbformat": 4,
 "nbformat_minor": 2
}
